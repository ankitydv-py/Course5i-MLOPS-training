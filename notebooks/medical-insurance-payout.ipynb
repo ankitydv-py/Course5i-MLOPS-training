{
 "cells": [
  {
   "cell_type": "code",
   "execution_count": 1,
   "id": "c1d21996",
   "metadata": {
    "_cell_guid": "b1076dfc-b9ad-4769-8c92-a6c4dae69d19",
    "_uuid": "8f2839f25d086af736a60e9eeb907d3b93b6e0e5",
    "execution": {
     "iopub.execute_input": "2022-06-06T12:13:14.117629Z",
     "iopub.status.busy": "2022-06-06T12:13:14.116831Z",
     "iopub.status.idle": "2022-06-06T12:13:14.135846Z",
     "shell.execute_reply": "2022-06-06T12:13:14.135038Z"
    },
    "papermill": {
     "duration": 0.034973,
     "end_time": "2022-06-06T12:13:14.139570",
     "exception": false,
     "start_time": "2022-06-06T12:13:14.104597",
     "status": "completed"
    },
    "tags": []
   },
   "outputs": [
    {
     "name": "stdout",
     "output_type": "stream",
     "text": [
      "/kaggle/input/medical-insurance-payout/expenses.csv\n"
     ]
    }
   ],
   "source": [
    "# This Python 3 environment comes with many helpful analytics libraries installed\n",
    "# It is defined by the kaggle/python Docker image: https://github.com/kaggle/docker-python\n",
    "# For example, here's several helpful packages to load\n",
    "\n",
    "import numpy as np # linear algebra\n",
    "import pandas as pd # data processing, CSV file I/O (e.g. pd.read_csv)\n",
    "\n",
    "# Input data files are available in the read-only \"../input/\" directory\n",
    "# For example, running this (by clicking run or pressing Shift+Enter) will list all files under the input directory\n",
    "\n",
    "import os\n",
    "for dirname, _, filenames in os.walk('/kaggle/input'):\n",
    "    for filename in filenames:\n",
    "        print(os.path.join(dirname, filename))\n",
    "\n",
    "# You can write up to 20GB to the current directory (/kaggle/working/) that gets preserved as output when you create a version using \"Save & Run All\" \n",
    "# You can also write temporary files to /kaggle/temp/, but they won't be saved outside of the current session"
   ]
  },
  {
   "cell_type": "code",
   "execution_count": 2,
   "id": "14ce05a2",
   "metadata": {
    "execution": {
     "iopub.execute_input": "2022-06-06T12:13:14.161436Z",
     "iopub.status.busy": "2022-06-06T12:13:14.160759Z",
     "iopub.status.idle": "2022-06-06T12:13:15.365371Z",
     "shell.execute_reply": "2022-06-06T12:13:15.364159Z"
    },
    "papermill": {
     "duration": 1.21914,
     "end_time": "2022-06-06T12:13:15.368321",
     "exception": false,
     "start_time": "2022-06-06T12:13:14.149181",
     "status": "completed"
    },
    "tags": []
   },
   "outputs": [],
   "source": [
    "import seaborn as sns\n",
    "import matplotlib.pyplot as plt\n",
    "%matplotlib inline\n",
    "sns.set_theme(style=\"ticks\")"
   ]
  },
  {
   "cell_type": "code",
   "execution_count": 3,
   "id": "83f772d8",
   "metadata": {
    "execution": {
     "iopub.execute_input": "2022-06-06T12:13:15.389072Z",
     "iopub.status.busy": "2022-06-06T12:13:15.388685Z",
     "iopub.status.idle": "2022-06-06T12:13:15.434143Z",
     "shell.execute_reply": "2022-06-06T12:13:15.432911Z"
    },
    "papermill": {
     "duration": 0.059003,
     "end_time": "2022-06-06T12:13:15.436831",
     "exception": false,
     "start_time": "2022-06-06T12:13:15.377828",
     "status": "completed"
    },
    "tags": []
   },
   "outputs": [
    {
     "data": {
      "text/html": [
       "<div>\n",
       "<style scoped>\n",
       "    .dataframe tbody tr th:only-of-type {\n",
       "        vertical-align: middle;\n",
       "    }\n",
       "\n",
       "    .dataframe tbody tr th {\n",
       "        vertical-align: top;\n",
       "    }\n",
       "\n",
       "    .dataframe thead th {\n",
       "        text-align: right;\n",
       "    }\n",
       "</style>\n",
       "<table border=\"1\" class=\"dataframe\">\n",
       "  <thead>\n",
       "    <tr style=\"text-align: right;\">\n",
       "      <th></th>\n",
       "      <th>age</th>\n",
       "      <th>sex</th>\n",
       "      <th>bmi</th>\n",
       "      <th>children</th>\n",
       "      <th>smoker</th>\n",
       "      <th>region</th>\n",
       "      <th>charges</th>\n",
       "    </tr>\n",
       "  </thead>\n",
       "  <tbody>\n",
       "    <tr>\n",
       "      <th>0</th>\n",
       "      <td>19</td>\n",
       "      <td>female</td>\n",
       "      <td>27.900</td>\n",
       "      <td>0</td>\n",
       "      <td>yes</td>\n",
       "      <td>southwest</td>\n",
       "      <td>16884.92400</td>\n",
       "    </tr>\n",
       "    <tr>\n",
       "      <th>1</th>\n",
       "      <td>18</td>\n",
       "      <td>male</td>\n",
       "      <td>33.770</td>\n",
       "      <td>1</td>\n",
       "      <td>no</td>\n",
       "      <td>southeast</td>\n",
       "      <td>1725.55230</td>\n",
       "    </tr>\n",
       "    <tr>\n",
       "      <th>2</th>\n",
       "      <td>28</td>\n",
       "      <td>male</td>\n",
       "      <td>33.000</td>\n",
       "      <td>3</td>\n",
       "      <td>no</td>\n",
       "      <td>southeast</td>\n",
       "      <td>4449.46200</td>\n",
       "    </tr>\n",
       "    <tr>\n",
       "      <th>3</th>\n",
       "      <td>33</td>\n",
       "      <td>male</td>\n",
       "      <td>22.705</td>\n",
       "      <td>0</td>\n",
       "      <td>no</td>\n",
       "      <td>northwest</td>\n",
       "      <td>21984.47061</td>\n",
       "    </tr>\n",
       "    <tr>\n",
       "      <th>4</th>\n",
       "      <td>32</td>\n",
       "      <td>male</td>\n",
       "      <td>28.880</td>\n",
       "      <td>0</td>\n",
       "      <td>no</td>\n",
       "      <td>northwest</td>\n",
       "      <td>3866.85520</td>\n",
       "    </tr>\n",
       "  </tbody>\n",
       "</table>\n",
       "</div>"
      ],
      "text/plain": [
       "   age     sex     bmi  children smoker     region      charges\n",
       "0   19  female  27.900         0    yes  southwest  16884.92400\n",
       "1   18    male  33.770         1     no  southeast   1725.55230\n",
       "2   28    male  33.000         3     no  southeast   4449.46200\n",
       "3   33    male  22.705         0     no  northwest  21984.47061\n",
       "4   32    male  28.880         0     no  northwest   3866.85520"
      ]
     },
     "execution_count": 3,
     "metadata": {},
     "output_type": "execute_result"
    }
   ],
   "source": [
    "df = pd.read_csv('/kaggle/input/medical-insurance-payout/expenses.csv')\n",
    "df.head()"
   ]
  },
  {
   "cell_type": "code",
   "execution_count": 4,
   "id": "b3579b2c",
   "metadata": {
    "execution": {
     "iopub.execute_input": "2022-06-06T12:13:15.458859Z",
     "iopub.status.busy": "2022-06-06T12:13:15.458140Z",
     "iopub.status.idle": "2022-06-06T12:13:15.463659Z",
     "shell.execute_reply": "2022-06-06T12:13:15.462973Z"
    },
    "papermill": {
     "duration": 0.018699,
     "end_time": "2022-06-06T12:13:15.465640",
     "exception": false,
     "start_time": "2022-06-06T12:13:15.446941",
     "status": "completed"
    },
    "tags": []
   },
   "outputs": [
    {
     "data": {
      "text/plain": [
       "(1338, 7)"
      ]
     },
     "execution_count": 4,
     "metadata": {},
     "output_type": "execute_result"
    }
   ],
   "source": [
    "df.shape"
   ]
  },
  {
   "cell_type": "code",
   "execution_count": 5,
   "id": "7b3d3516",
   "metadata": {
    "execution": {
     "iopub.execute_input": "2022-06-06T12:13:15.487559Z",
     "iopub.status.busy": "2022-06-06T12:13:15.486602Z",
     "iopub.status.idle": "2022-06-06T12:13:15.513004Z",
     "shell.execute_reply": "2022-06-06T12:13:15.511650Z"
    },
    "papermill": {
     "duration": 0.0401,
     "end_time": "2022-06-06T12:13:15.515851",
     "exception": false,
     "start_time": "2022-06-06T12:13:15.475751",
     "status": "completed"
    },
    "tags": []
   },
   "outputs": [
    {
     "name": "stdout",
     "output_type": "stream",
     "text": [
      "<class 'pandas.core.frame.DataFrame'>\n",
      "RangeIndex: 1338 entries, 0 to 1337\n",
      "Data columns (total 7 columns):\n",
      " #   Column    Non-Null Count  Dtype  \n",
      "---  ------    --------------  -----  \n",
      " 0   age       1338 non-null   int64  \n",
      " 1   sex       1338 non-null   object \n",
      " 2   bmi       1338 non-null   float64\n",
      " 3   children  1338 non-null   int64  \n",
      " 4   smoker    1338 non-null   object \n",
      " 5   region    1338 non-null   object \n",
      " 6   charges   1338 non-null   float64\n",
      "dtypes: float64(2), int64(2), object(3)\n",
      "memory usage: 73.3+ KB\n"
     ]
    }
   ],
   "source": [
    "df.info()"
   ]
  },
  {
   "cell_type": "code",
   "execution_count": 6,
   "id": "60fab096",
   "metadata": {
    "execution": {
     "iopub.execute_input": "2022-06-06T12:13:15.537369Z",
     "iopub.status.busy": "2022-06-06T12:13:15.536648Z",
     "iopub.status.idle": "2022-06-06T12:13:15.545123Z",
     "shell.execute_reply": "2022-06-06T12:13:15.544229Z"
    },
    "papermill": {
     "duration": 0.021828,
     "end_time": "2022-06-06T12:13:15.547403",
     "exception": false,
     "start_time": "2022-06-06T12:13:15.525575",
     "status": "completed"
    },
    "tags": []
   },
   "outputs": [
    {
     "data": {
      "text/plain": [
       "age         0\n",
       "sex         0\n",
       "bmi         0\n",
       "children    0\n",
       "smoker      0\n",
       "region      0\n",
       "charges     0\n",
       "dtype: int64"
      ]
     },
     "execution_count": 6,
     "metadata": {},
     "output_type": "execute_result"
    }
   ],
   "source": [
    "df.isnull().sum()"
   ]
  },
  {
   "cell_type": "markdown",
   "id": "3dd97e27",
   "metadata": {
    "execution": {
     "iopub.execute_input": "2022-06-06T12:01:02.432624Z",
     "iopub.status.busy": "2022-06-06T12:01:02.432150Z",
     "iopub.status.idle": "2022-06-06T12:01:02.439701Z",
     "shell.execute_reply": "2022-06-06T12:01:02.438279Z",
     "shell.execute_reply.started": "2022-06-06T12:01:02.432585Z"
    },
    "papermill": {
     "duration": 0.009556,
     "end_time": "2022-06-06T12:13:15.566782",
     "exception": false,
     "start_time": "2022-06-06T12:13:15.557226",
     "status": "completed"
    },
    "tags": []
   },
   "source": [
    "Predicting factors that affect the Charge variable"
   ]
  },
  {
   "cell_type": "raw",
   "id": "386bb4be",
   "metadata": {
    "execution": {
     "iopub.execute_input": "2022-06-06T12:02:51.325450Z",
     "iopub.status.busy": "2022-06-06T12:02:51.324999Z",
     "iopub.status.idle": "2022-06-06T12:03:00.253012Z",
     "shell.execute_reply": "2022-06-06T12:03:00.251714Z",
     "shell.execute_reply.started": "2022-06-06T12:02:51.325417Z"
    },
    "papermill": {
     "duration": 0.009309,
     "end_time": "2022-06-06T12:13:15.587146",
     "exception": false,
     "start_time": "2022-06-06T12:13:15.577837",
     "status": "completed"
    },
    "tags": []
   },
   "source": [
    "import ppscore as pps"
   ]
  },
  {
   "cell_type": "code",
   "execution_count": 7,
   "id": "303aa774",
   "metadata": {
    "execution": {
     "iopub.execute_input": "2022-06-06T12:13:15.608931Z",
     "iopub.status.busy": "2022-06-06T12:13:15.608094Z",
     "iopub.status.idle": "2022-06-06T12:13:15.612126Z",
     "shell.execute_reply": "2022-06-06T12:13:15.611210Z"
    },
    "papermill": {
     "duration": 0.01737,
     "end_time": "2022-06-06T12:13:15.614098",
     "exception": false,
     "start_time": "2022-06-06T12:13:15.596728",
     "status": "completed"
    },
    "tags": []
   },
   "outputs": [],
   "source": [
    "#pps_df=pps.matrix(df)\n",
    "#pps_df"
   ]
  },
  {
   "cell_type": "code",
   "execution_count": 8,
   "id": "6dc8eec9",
   "metadata": {
    "execution": {
     "iopub.execute_input": "2022-06-06T12:13:15.635576Z",
     "iopub.status.busy": "2022-06-06T12:13:15.634797Z",
     "iopub.status.idle": "2022-06-06T12:13:15.640368Z",
     "shell.execute_reply": "2022-06-06T12:13:15.638909Z"
    },
    "papermill": {
     "duration": 0.018938,
     "end_time": "2022-06-06T12:13:15.642641",
     "exception": false,
     "start_time": "2022-06-06T12:13:15.623703",
     "status": "completed"
    },
    "tags": []
   },
   "outputs": [],
   "source": [
    "#pps.predictors(df,'charges')"
   ]
  },
  {
   "cell_type": "code",
   "execution_count": 9,
   "id": "07897095",
   "metadata": {
    "execution": {
     "iopub.execute_input": "2022-06-06T12:13:15.664550Z",
     "iopub.status.busy": "2022-06-06T12:13:15.663762Z",
     "iopub.status.idle": "2022-06-06T12:13:15.678989Z",
     "shell.execute_reply": "2022-06-06T12:13:15.678215Z"
    },
    "papermill": {
     "duration": 0.028501,
     "end_time": "2022-06-06T12:13:15.681006",
     "exception": false,
     "start_time": "2022-06-06T12:13:15.652505",
     "status": "completed"
    },
    "tags": []
   },
   "outputs": [
    {
     "data": {
      "text/html": [
       "<div>\n",
       "<style scoped>\n",
       "    .dataframe tbody tr th:only-of-type {\n",
       "        vertical-align: middle;\n",
       "    }\n",
       "\n",
       "    .dataframe tbody tr th {\n",
       "        vertical-align: top;\n",
       "    }\n",
       "\n",
       "    .dataframe thead th {\n",
       "        text-align: right;\n",
       "    }\n",
       "</style>\n",
       "<table border=\"1\" class=\"dataframe\">\n",
       "  <thead>\n",
       "    <tr style=\"text-align: right;\">\n",
       "      <th></th>\n",
       "      <th>age</th>\n",
       "      <th>bmi</th>\n",
       "      <th>children</th>\n",
       "      <th>charges</th>\n",
       "    </tr>\n",
       "  </thead>\n",
       "  <tbody>\n",
       "    <tr>\n",
       "      <th>age</th>\n",
       "      <td>1.000000</td>\n",
       "      <td>0.109272</td>\n",
       "      <td>0.042469</td>\n",
       "      <td>0.299008</td>\n",
       "    </tr>\n",
       "    <tr>\n",
       "      <th>bmi</th>\n",
       "      <td>0.109272</td>\n",
       "      <td>1.000000</td>\n",
       "      <td>0.012759</td>\n",
       "      <td>0.198341</td>\n",
       "    </tr>\n",
       "    <tr>\n",
       "      <th>children</th>\n",
       "      <td>0.042469</td>\n",
       "      <td>0.012759</td>\n",
       "      <td>1.000000</td>\n",
       "      <td>0.067998</td>\n",
       "    </tr>\n",
       "    <tr>\n",
       "      <th>charges</th>\n",
       "      <td>0.299008</td>\n",
       "      <td>0.198341</td>\n",
       "      <td>0.067998</td>\n",
       "      <td>1.000000</td>\n",
       "    </tr>\n",
       "  </tbody>\n",
       "</table>\n",
       "</div>"
      ],
      "text/plain": [
       "               age       bmi  children   charges\n",
       "age       1.000000  0.109272  0.042469  0.299008\n",
       "bmi       0.109272  1.000000  0.012759  0.198341\n",
       "children  0.042469  0.012759  1.000000  0.067998\n",
       "charges   0.299008  0.198341  0.067998  1.000000"
      ]
     },
     "execution_count": 9,
     "metadata": {},
     "output_type": "execute_result"
    }
   ],
   "source": [
    "corr=df.corr()\n",
    "corr"
   ]
  },
  {
   "cell_type": "code",
   "execution_count": 10,
   "id": "a4d45cf1",
   "metadata": {
    "execution": {
     "iopub.execute_input": "2022-06-06T12:13:15.702524Z",
     "iopub.status.busy": "2022-06-06T12:13:15.702020Z",
     "iopub.status.idle": "2022-06-06T12:13:16.026573Z",
     "shell.execute_reply": "2022-06-06T12:13:16.025081Z"
    },
    "papermill": {
     "duration": 0.338533,
     "end_time": "2022-06-06T12:13:16.029346",
     "exception": false,
     "start_time": "2022-06-06T12:13:15.690813",
     "status": "completed"
    },
    "tags": []
   },
   "outputs": [
    {
     "data": {
      "text/plain": [
       "<AxesSubplot:>"
      ]
     },
     "execution_count": 10,
     "metadata": {},
     "output_type": "execute_result"
    },
    {
     "data": {
      "image/png": "[encoded data removed]",
      "text/plain": [
       "<Figure size 432x288 with 2 Axes>"
      ]
     },
     "metadata": {},
     "output_type": "display_data"
    }
   ],
   "source": [
    "sns.heatmap(corr, cmap='Blues', annot=True)"
   ]
  },
  {
   "cell_type": "markdown",
   "id": "d3c2bb1a",
   "metadata": {
    "papermill": {
     "duration": 0.010797,
     "end_time": "2022-06-06T12:13:16.050551",
     "exception": false,
     "start_time": "2022-06-06T12:13:16.039754",
     "status": "completed"
    },
    "tags": []
   },
   "source": [
    "From the heatmap, bmi and age are the factors that strongly affect medical expenditure/charges."
   ]
  },
  {
   "cell_type": "code",
   "execution_count": 11,
   "id": "eb78618e",
   "metadata": {
    "execution": {
     "iopub.execute_input": "2022-06-06T12:13:16.073661Z",
     "iopub.status.busy": "2022-06-06T12:13:16.073205Z",
     "iopub.status.idle": "2022-06-06T12:13:16.178029Z",
     "shell.execute_reply": "2022-06-06T12:13:16.176371Z"
    },
    "papermill": {
     "duration": 0.12055,
     "end_time": "2022-06-06T12:13:16.181796",
     "exception": false,
     "start_time": "2022-06-06T12:13:16.061246",
     "status": "completed"
    },
    "tags": []
   },
   "outputs": [
    {
     "data": {
      "image/png": "[encoded data removed]",
      "text/plain": [
       "<Figure size 432x288 with 1 Axes>"
      ]
     },
     "metadata": {},
     "output_type": "display_data"
    }
   ],
   "source": [
    "plt.pie(df['sex'].value_counts(),labels=['M','F'],autopct=\"%1.2f%%\")\n",
    "plt.show()"
   ]
  },
  {
   "cell_type": "code",
   "execution_count": 12,
   "id": "134cd2b7",
   "metadata": {
    "execution": {
     "iopub.execute_input": "2022-06-06T12:13:16.226990Z",
     "iopub.status.busy": "2022-06-06T12:13:16.225919Z",
     "iopub.status.idle": "2022-06-06T12:13:16.479348Z",
     "shell.execute_reply": "2022-06-06T12:13:16.478469Z"
    },
    "papermill": {
     "duration": 0.279129,
     "end_time": "2022-06-06T12:13:16.481536",
     "exception": false,
     "start_time": "2022-06-06T12:13:16.202407",
     "status": "completed"
    },
    "tags": []
   },
   "outputs": [
    {
     "data": {
      "text/plain": [
       "<AxesSubplot:xlabel='bmi', ylabel='charges'>"
      ]
     },
     "execution_count": 12,
     "metadata": {},
     "output_type": "execute_result"
    },
    {
     "data": {
      "image/png": "[encoded data removed]",
      "text/plain": [
       "<Figure size 432x288 with 1 Axes>"
      ]
     },
     "metadata": {},
     "output_type": "display_data"
    }
   ],
   "source": [
    "sns.scatterplot(data=df, x='bmi', y='charges')"
   ]
  },
  {
   "cell_type": "markdown",
   "id": "6b3e3ea1",
   "metadata": {
    "papermill": {
     "duration": 0.011098,
     "end_time": "2022-06-06T12:13:16.504249",
     "exception": false,
     "start_time": "2022-06-06T12:13:16.493151",
     "status": "completed"
    },
    "tags": []
   },
   "source": [
    "It can be infered from the scatterplot that on average, the less the BMI, the less charges or expenditure."
   ]
  },
  {
   "cell_type": "code",
   "execution_count": 13,
   "id": "2da274d7",
   "metadata": {
    "execution": {
     "iopub.execute_input": "2022-06-06T12:13:16.530007Z",
     "iopub.status.busy": "2022-06-06T12:13:16.529047Z",
     "iopub.status.idle": "2022-06-06T12:13:16.740555Z",
     "shell.execute_reply": "2022-06-06T12:13:16.739221Z"
    },
    "papermill": {
     "duration": 0.22745,
     "end_time": "2022-06-06T12:13:16.743325",
     "exception": false,
     "start_time": "2022-06-06T12:13:16.515875",
     "status": "completed"
    },
    "tags": []
   },
   "outputs": [
    {
     "data": {
      "text/plain": [
       "<AxesSubplot:xlabel='age', ylabel='charges'>"
      ]
     },
     "execution_count": 13,
     "metadata": {},
     "output_type": "execute_result"
    },
    {
     "data": {
      "image/png": "[encoded data removed]",
      "text/plain": [
       "<Figure size 432x288 with 1 Axes>"
      ]
     },
     "metadata": {},
     "output_type": "display_data"
    }
   ],
   "source": [
    "sns.scatterplot(data=df, x='age', y='charges')"
   ]
  },
  {
   "cell_type": "markdown",
   "id": "d91c5c57",
   "metadata": {
    "papermill": {
     "duration": 0.012948,
     "end_time": "2022-06-06T12:13:16.768888",
     "exception": false,
     "start_time": "2022-06-06T12:13:16.755940",
     "status": "completed"
    },
    "tags": []
   },
   "source": [
    "On average, older people tend to spend more on medical charges."
   ]
  },
  {
   "cell_type": "code",
   "execution_count": 14,
   "id": "8201c926",
   "metadata": {
    "execution": {
     "iopub.execute_input": "2022-06-06T12:13:16.797137Z",
     "iopub.status.busy": "2022-06-06T12:13:16.796144Z",
     "iopub.status.idle": "2022-06-06T12:13:17.411043Z",
     "shell.execute_reply": "2022-06-06T12:13:17.410119Z"
    },
    "papermill": {
     "duration": 0.631517,
     "end_time": "2022-06-06T12:13:17.413405",
     "exception": false,
     "start_time": "2022-06-06T12:13:16.781888",
     "status": "completed"
    },
    "tags": []
   },
   "outputs": [
    {
     "data": {
      "text/plain": [
       "<seaborn.axisgrid.FacetGrid at 0x7f0e35565550>"
      ]
     },
     "execution_count": 14,
     "metadata": {},
     "output_type": "execute_result"
    },
    {
     "data": {
      "image/png": "[encoded data removed]",
      "text/plain": [
       "<Figure size 437.975x360 with 1 Axes>"
      ]
     },
     "metadata": {},
     "output_type": "display_data"
    }
   ],
   "source": [
    "sns.catplot(data=df, x='region', y='charges', kind='bar', hue='sex')"
   ]
  },
  {
   "cell_type": "markdown",
   "id": "e5ed56be",
   "metadata": {
    "papermill": {
     "duration": 0.013537,
     "end_time": "2022-06-06T12:13:17.440201",
     "exception": false,
     "start_time": "2022-06-06T12:13:17.426664",
     "status": "completed"
    },
    "tags": []
   },
   "source": [
    "Males tend to pay more charges than females in all regions but 'northwest' though not a big difference."
   ]
  },
  {
   "cell_type": "code",
   "execution_count": 15,
   "id": "9afe8113",
   "metadata": {
    "execution": {
     "iopub.execute_input": "2022-06-06T12:13:17.469105Z",
     "iopub.status.busy": "2022-06-06T12:13:17.468412Z",
     "iopub.status.idle": "2022-06-06T12:13:17.937067Z",
     "shell.execute_reply": "2022-06-06T12:13:17.936347Z"
    },
    "papermill": {
     "duration": 0.485893,
     "end_time": "2022-06-06T12:13:17.939488",
     "exception": false,
     "start_time": "2022-06-06T12:13:17.453595",
     "status": "completed"
    },
    "tags": []
   },
   "outputs": [
    {
     "data": {
      "text/plain": [
       "<seaborn.axisgrid.FacetGrid at 0x7f0e35527f90>"
      ]
     },
     "execution_count": 15,
     "metadata": {},
     "output_type": "execute_result"
    },
    {
     "data": {
      "image/png": "[encoded data removed]",
      "text/plain": [
       "<Figure size 437.975x360 with 1 Axes>"
      ]
     },
     "metadata": {},
     "output_type": "display_data"
    }
   ],
   "source": [
    "sns.catplot(data=df, x='smoker', y='charges', kind='bar', hue='sex')"
   ]
  },
  {
   "cell_type": "markdown",
   "id": "521d87e4",
   "metadata": {
    "papermill": {
     "duration": 0.012619,
     "end_time": "2022-06-06T12:13:17.966785",
     "exception": false,
     "start_time": "2022-06-06T12:13:17.954166",
     "status": "completed"
    },
    "tags": []
   },
   "source": [
    "Smokers tend to pay more medical charges than non-smokers."
   ]
  },
  {
   "cell_type": "markdown",
   "id": "c31312b0",
   "metadata": {
    "papermill": {
     "duration": 0.012465,
     "end_time": "2022-06-06T12:13:17.992071",
     "exception": false,
     "start_time": "2022-06-06T12:13:17.979606",
     "status": "completed"
    },
    "tags": []
   },
   "source": [
    "## Dealing with categorical variables"
   ]
  },
  {
   "cell_type": "code",
   "execution_count": null,
   "id": "e6b83b84",
   "metadata": {
    "papermill": {
     "duration": 0.014534,
     "end_time": "2022-06-06T12:13:18.019594",
     "exception": false,
     "start_time": "2022-06-06T12:13:18.005060",
     "status": "completed"
    },
    "tags": []
   },
   "outputs": [],
   "source": []
  },
  {
   "cell_type": "code",
   "execution_count": 16,
   "id": "f4c34844",
   "metadata": {
    "execution": {
     "iopub.execute_input": "2022-06-06T12:13:18.047733Z",
     "iopub.status.busy": "2022-06-06T12:13:18.047039Z",
     "iopub.status.idle": "2022-06-06T12:13:18.066875Z",
     "shell.execute_reply": "2022-06-06T12:13:18.065951Z"
    },
    "papermill": {
     "duration": 0.036386,
     "end_time": "2022-06-06T12:13:18.068999",
     "exception": false,
     "start_time": "2022-06-06T12:13:18.032613",
     "status": "completed"
    },
    "tags": []
   },
   "outputs": [
    {
     "data": {
      "text/html": [
       "<div>\n",
       "<style scoped>\n",
       "    .dataframe tbody tr th:only-of-type {\n",
       "        vertical-align: middle;\n",
       "    }\n",
       "\n",
       "    .dataframe tbody tr th {\n",
       "        vertical-align: top;\n",
       "    }\n",
       "\n",
       "    .dataframe thead th {\n",
       "        text-align: right;\n",
       "    }\n",
       "</style>\n",
       "<table border=\"1\" class=\"dataframe\">\n",
       "  <thead>\n",
       "    <tr style=\"text-align: right;\">\n",
       "      <th></th>\n",
       "      <th>age</th>\n",
       "      <th>bmi</th>\n",
       "      <th>children</th>\n",
       "      <th>charges</th>\n",
       "      <th>sex_male</th>\n",
       "      <th>smoker_yes</th>\n",
       "      <th>region_northwest</th>\n",
       "      <th>region_southeast</th>\n",
       "      <th>region_southwest</th>\n",
       "    </tr>\n",
       "  </thead>\n",
       "  <tbody>\n",
       "    <tr>\n",
       "      <th>0</th>\n",
       "      <td>19</td>\n",
       "      <td>27.900</td>\n",
       "      <td>0</td>\n",
       "      <td>16884.92400</td>\n",
       "      <td>0</td>\n",
       "      <td>1</td>\n",
       "      <td>0</td>\n",
       "      <td>0</td>\n",
       "      <td>1</td>\n",
       "    </tr>\n",
       "    <tr>\n",
       "      <th>1</th>\n",
       "      <td>18</td>\n",
       "      <td>33.770</td>\n",
       "      <td>1</td>\n",
       "      <td>1725.55230</td>\n",
       "      <td>1</td>\n",
       "      <td>0</td>\n",
       "      <td>0</td>\n",
       "      <td>1</td>\n",
       "      <td>0</td>\n",
       "    </tr>\n",
       "    <tr>\n",
       "      <th>2</th>\n",
       "      <td>28</td>\n",
       "      <td>33.000</td>\n",
       "      <td>3</td>\n",
       "      <td>4449.46200</td>\n",
       "      <td>1</td>\n",
       "      <td>0</td>\n",
       "      <td>0</td>\n",
       "      <td>1</td>\n",
       "      <td>0</td>\n",
       "    </tr>\n",
       "    <tr>\n",
       "      <th>3</th>\n",
       "      <td>33</td>\n",
       "      <td>22.705</td>\n",
       "      <td>0</td>\n",
       "      <td>21984.47061</td>\n",
       "      <td>1</td>\n",
       "      <td>0</td>\n",
       "      <td>1</td>\n",
       "      <td>0</td>\n",
       "      <td>0</td>\n",
       "    </tr>\n",
       "    <tr>\n",
       "      <th>4</th>\n",
       "      <td>32</td>\n",
       "      <td>28.880</td>\n",
       "      <td>0</td>\n",
       "      <td>3866.85520</td>\n",
       "      <td>1</td>\n",
       "      <td>0</td>\n",
       "      <td>1</td>\n",
       "      <td>0</td>\n",
       "      <td>0</td>\n",
       "    </tr>\n",
       "  </tbody>\n",
       "</table>\n",
       "</div>"
      ],
      "text/plain": [
       "   age     bmi  children      charges  sex_male  smoker_yes  region_northwest  \\\n",
       "0   19  27.900         0  16884.92400         0           1                 0   \n",
       "1   18  33.770         1   1725.55230         1           0                 0   \n",
       "2   28  33.000         3   4449.46200         1           0                 0   \n",
       "3   33  22.705         0  21984.47061         1           0                 1   \n",
       "4   32  28.880         0   3866.85520         1           0                 1   \n",
       "\n",
       "   region_southeast  region_southwest  \n",
       "0                 0                 1  \n",
       "1                 1                 0  \n",
       "2                 1                 0  \n",
       "3                 0                 0  \n",
       "4                 0                 0  "
      ]
     },
     "execution_count": 16,
     "metadata": {},
     "output_type": "execute_result"
    }
   ],
   "source": [
    "df1 = pd.get_dummies(df, columns=['sex', 'smoker','region'],drop_first=True)\n",
    "df1.head(5)"
   ]
  },
  {
   "cell_type": "code",
   "execution_count": 17,
   "id": "776df141",
   "metadata": {
    "execution": {
     "iopub.execute_input": "2022-06-06T12:13:18.097157Z",
     "iopub.status.busy": "2022-06-06T12:13:18.096625Z",
     "iopub.status.idle": "2022-06-06T12:13:18.111269Z",
     "shell.execute_reply": "2022-06-06T12:13:18.110324Z"
    },
    "papermill": {
     "duration": 0.031438,
     "end_time": "2022-06-06T12:13:18.113599",
     "exception": false,
     "start_time": "2022-06-06T12:13:18.082161",
     "status": "completed"
    },
    "tags": []
   },
   "outputs": [
    {
     "data": {
      "text/html": [
       "<div>\n",
       "<style scoped>\n",
       "    .dataframe tbody tr th:only-of-type {\n",
       "        vertical-align: middle;\n",
       "    }\n",
       "\n",
       "    .dataframe tbody tr th {\n",
       "        vertical-align: top;\n",
       "    }\n",
       "\n",
       "    .dataframe thead th {\n",
       "        text-align: right;\n",
       "    }\n",
       "</style>\n",
       "<table border=\"1\" class=\"dataframe\">\n",
       "  <thead>\n",
       "    <tr style=\"text-align: right;\">\n",
       "      <th></th>\n",
       "      <th>age</th>\n",
       "      <th>bmi</th>\n",
       "      <th>children</th>\n",
       "      <th>sex_male</th>\n",
       "      <th>smoker_yes</th>\n",
       "      <th>region_northwest</th>\n",
       "      <th>region_southeast</th>\n",
       "      <th>region_southwest</th>\n",
       "      <th>charges</th>\n",
       "    </tr>\n",
       "  </thead>\n",
       "  <tbody>\n",
       "    <tr>\n",
       "      <th>0</th>\n",
       "      <td>19</td>\n",
       "      <td>27.900</td>\n",
       "      <td>0</td>\n",
       "      <td>0</td>\n",
       "      <td>1</td>\n",
       "      <td>0</td>\n",
       "      <td>0</td>\n",
       "      <td>1</td>\n",
       "      <td>16884.92400</td>\n",
       "    </tr>\n",
       "    <tr>\n",
       "      <th>1</th>\n",
       "      <td>18</td>\n",
       "      <td>33.770</td>\n",
       "      <td>1</td>\n",
       "      <td>1</td>\n",
       "      <td>0</td>\n",
       "      <td>0</td>\n",
       "      <td>1</td>\n",
       "      <td>0</td>\n",
       "      <td>1725.55230</td>\n",
       "    </tr>\n",
       "    <tr>\n",
       "      <th>2</th>\n",
       "      <td>28</td>\n",
       "      <td>33.000</td>\n",
       "      <td>3</td>\n",
       "      <td>1</td>\n",
       "      <td>0</td>\n",
       "      <td>0</td>\n",
       "      <td>1</td>\n",
       "      <td>0</td>\n",
       "      <td>4449.46200</td>\n",
       "    </tr>\n",
       "    <tr>\n",
       "      <th>3</th>\n",
       "      <td>33</td>\n",
       "      <td>22.705</td>\n",
       "      <td>0</td>\n",
       "      <td>1</td>\n",
       "      <td>0</td>\n",
       "      <td>1</td>\n",
       "      <td>0</td>\n",
       "      <td>0</td>\n",
       "      <td>21984.47061</td>\n",
       "    </tr>\n",
       "    <tr>\n",
       "      <th>4</th>\n",
       "      <td>32</td>\n",
       "      <td>28.880</td>\n",
       "      <td>0</td>\n",
       "      <td>1</td>\n",
       "      <td>0</td>\n",
       "      <td>1</td>\n",
       "      <td>0</td>\n",
       "      <td>0</td>\n",
       "      <td>3866.85520</td>\n",
       "    </tr>\n",
       "  </tbody>\n",
       "</table>\n",
       "</div>"
      ],
      "text/plain": [
       "   age     bmi  children  sex_male  smoker_yes  region_northwest  \\\n",
       "0   19  27.900         0         0           1                 0   \n",
       "1   18  33.770         1         1           0                 0   \n",
       "2   28  33.000         3         1           0                 0   \n",
       "3   33  22.705         0         1           0                 1   \n",
       "4   32  28.880         0         1           0                 1   \n",
       "\n",
       "   region_southeast  region_southwest      charges  \n",
       "0                 0                 1  16884.92400  \n",
       "1                 1                 0   1725.55230  \n",
       "2                 1                 0   4449.46200  \n",
       "3                 0                 0  21984.47061  \n",
       "4                 0                 0   3866.85520  "
      ]
     },
     "execution_count": 17,
     "metadata": {},
     "output_type": "execute_result"
    }
   ],
   "source": [
    "df = df1.reindex(columns=['age', 'bmi', 'children', 'sex_male', 'smoker_yes',\n",
    "       'region_northwest', 'region_southeast', 'region_southwest','charges'])\n",
    "df.head()"
   ]
  },
  {
   "cell_type": "code",
   "execution_count": 18,
   "id": "2049ab2b",
   "metadata": {
    "execution": {
     "iopub.execute_input": "2022-06-06T12:13:18.143953Z",
     "iopub.status.busy": "2022-06-06T12:13:18.143299Z",
     "iopub.status.idle": "2022-06-06T12:13:18.155360Z",
     "shell.execute_reply": "2022-06-06T12:13:18.154705Z"
    },
    "papermill": {
     "duration": 0.029474,
     "end_time": "2022-06-06T12:13:18.157370",
     "exception": false,
     "start_time": "2022-06-06T12:13:18.127896",
     "status": "completed"
    },
    "tags": []
   },
   "outputs": [
    {
     "data": {
      "text/html": [
       "<div>\n",
       "<style scoped>\n",
       "    .dataframe tbody tr th:only-of-type {\n",
       "        vertical-align: middle;\n",
       "    }\n",
       "\n",
       "    .dataframe tbody tr th {\n",
       "        vertical-align: top;\n",
       "    }\n",
       "\n",
       "    .dataframe thead th {\n",
       "        text-align: right;\n",
       "    }\n",
       "</style>\n",
       "<table border=\"1\" class=\"dataframe\">\n",
       "  <thead>\n",
       "    <tr style=\"text-align: right;\">\n",
       "      <th></th>\n",
       "      <th>age</th>\n",
       "      <th>bmi</th>\n",
       "      <th>children</th>\n",
       "      <th>sex_male</th>\n",
       "      <th>smoker_yes</th>\n",
       "      <th>region_northwest</th>\n",
       "      <th>region_southeast</th>\n",
       "      <th>region_southwest</th>\n",
       "    </tr>\n",
       "  </thead>\n",
       "  <tbody>\n",
       "    <tr>\n",
       "      <th>0</th>\n",
       "      <td>19</td>\n",
       "      <td>27.900</td>\n",
       "      <td>0</td>\n",
       "      <td>0</td>\n",
       "      <td>1</td>\n",
       "      <td>0</td>\n",
       "      <td>0</td>\n",
       "      <td>1</td>\n",
       "    </tr>\n",
       "    <tr>\n",
       "      <th>1</th>\n",
       "      <td>18</td>\n",
       "      <td>33.770</td>\n",
       "      <td>1</td>\n",
       "      <td>1</td>\n",
       "      <td>0</td>\n",
       "      <td>0</td>\n",
       "      <td>1</td>\n",
       "      <td>0</td>\n",
       "    </tr>\n",
       "    <tr>\n",
       "      <th>2</th>\n",
       "      <td>28</td>\n",
       "      <td>33.000</td>\n",
       "      <td>3</td>\n",
       "      <td>1</td>\n",
       "      <td>0</td>\n",
       "      <td>0</td>\n",
       "      <td>1</td>\n",
       "      <td>0</td>\n",
       "    </tr>\n",
       "    <tr>\n",
       "      <th>3</th>\n",
       "      <td>33</td>\n",
       "      <td>22.705</td>\n",
       "      <td>0</td>\n",
       "      <td>1</td>\n",
       "      <td>0</td>\n",
       "      <td>1</td>\n",
       "      <td>0</td>\n",
       "      <td>0</td>\n",
       "    </tr>\n",
       "    <tr>\n",
       "      <th>4</th>\n",
       "      <td>32</td>\n",
       "      <td>28.880</td>\n",
       "      <td>0</td>\n",
       "      <td>1</td>\n",
       "      <td>0</td>\n",
       "      <td>1</td>\n",
       "      <td>0</td>\n",
       "      <td>0</td>\n",
       "    </tr>\n",
       "  </tbody>\n",
       "</table>\n",
       "</div>"
      ],
      "text/plain": [
       "   age     bmi  children  sex_male  smoker_yes  region_northwest  \\\n",
       "0   19  27.900         0         0           1                 0   \n",
       "1   18  33.770         1         1           0                 0   \n",
       "2   28  33.000         3         1           0                 0   \n",
       "3   33  22.705         0         1           0                 1   \n",
       "4   32  28.880         0         1           0                 1   \n",
       "\n",
       "   region_southeast  region_southwest  \n",
       "0                 0                 1  \n",
       "1                 1                 0  \n",
       "2                 1                 0  \n",
       "3                 0                 0  \n",
       "4                 0                 0  "
      ]
     },
     "execution_count": 18,
     "metadata": {},
     "output_type": "execute_result"
    }
   ],
   "source": [
    "#Feature Selection\n",
    "X = df.iloc[:, :-1]\n",
    "X.head()"
   ]
  },
  {
   "cell_type": "code",
   "execution_count": 19,
   "id": "a6b84e12",
   "metadata": {
    "execution": {
     "iopub.execute_input": "2022-06-06T12:13:18.188782Z",
     "iopub.status.busy": "2022-06-06T12:13:18.188139Z",
     "iopub.status.idle": "2022-06-06T12:13:18.196183Z",
     "shell.execute_reply": "2022-06-06T12:13:18.195263Z"
    },
    "papermill": {
     "duration": 0.026672,
     "end_time": "2022-06-06T12:13:18.198236",
     "exception": false,
     "start_time": "2022-06-06T12:13:18.171564",
     "status": "completed"
    },
    "tags": []
   },
   "outputs": [
    {
     "data": {
      "text/plain": [
       "0    16884.92400\n",
       "1     1725.55230\n",
       "2     4449.46200\n",
       "3    21984.47061\n",
       "4     3866.85520\n",
       "Name: charges, dtype: float64"
      ]
     },
     "execution_count": 19,
     "metadata": {},
     "output_type": "execute_result"
    }
   ],
   "source": [
    "y=df.iloc[:,-1]\n",
    "y.head()"
   ]
  },
  {
   "cell_type": "code",
   "execution_count": 20,
   "id": "22f64a8f",
   "metadata": {
    "execution": {
     "iopub.execute_input": "2022-06-06T12:13:18.228389Z",
     "iopub.status.busy": "2022-06-06T12:13:18.227841Z",
     "iopub.status.idle": "2022-06-06T12:13:18.444566Z",
     "shell.execute_reply": "2022-06-06T12:13:18.443773Z"
    },
    "papermill": {
     "duration": 0.235055,
     "end_time": "2022-06-06T12:13:18.447135",
     "exception": false,
     "start_time": "2022-06-06T12:13:18.212080",
     "status": "completed"
    },
    "tags": []
   },
   "outputs": [],
   "source": [
    "from sklearn.model_selection import train_test_split"
   ]
  },
  {
   "cell_type": "code",
   "execution_count": 21,
   "id": "eec9e2f6",
   "metadata": {
    "execution": {
     "iopub.execute_input": "2022-06-06T12:13:18.478728Z",
     "iopub.status.busy": "2022-06-06T12:13:18.477995Z",
     "iopub.status.idle": "2022-06-06T12:13:18.484744Z",
     "shell.execute_reply": "2022-06-06T12:13:18.483914Z"
    },
    "papermill": {
     "duration": 0.025313,
     "end_time": "2022-06-06T12:13:18.487348",
     "exception": false,
     "start_time": "2022-06-06T12:13:18.462035",
     "status": "completed"
    },
    "tags": []
   },
   "outputs": [],
   "source": [
    "X_train, X_test, y_train, y_test = train_test_split(X, y, test_size=0.33, random_state=42)"
   ]
  },
  {
   "cell_type": "code",
   "execution_count": 22,
   "id": "6c0500cb",
   "metadata": {
    "execution": {
     "iopub.execute_input": "2022-06-06T12:13:18.519493Z",
     "iopub.status.busy": "2022-06-06T12:13:18.518783Z",
     "iopub.status.idle": "2022-06-06T12:13:18.627191Z",
     "shell.execute_reply": "2022-06-06T12:13:18.626143Z"
    },
    "papermill": {
     "duration": 0.126851,
     "end_time": "2022-06-06T12:13:18.629310",
     "exception": false,
     "start_time": "2022-06-06T12:13:18.502459",
     "status": "completed"
    },
    "tags": []
   },
   "outputs": [
    {
     "data": {
      "text/plain": [
       "LinearRegression()"
      ]
     },
     "execution_count": 22,
     "metadata": {},
     "output_type": "execute_result"
    }
   ],
   "source": [
    "from sklearn.linear_model import LinearRegression\n",
    "#Fit the model\n",
    "lr = LinearRegression()\n",
    "lr.fit(X_train, y_train)"
   ]
  },
  {
   "cell_type": "code",
   "execution_count": 23,
   "id": "65bb71cd",
   "metadata": {
    "execution": {
     "iopub.execute_input": "2022-06-06T12:13:18.660692Z",
     "iopub.status.busy": "2022-06-06T12:13:18.660195Z",
     "iopub.status.idle": "2022-06-06T12:13:18.668081Z",
     "shell.execute_reply": "2022-06-06T12:13:18.667140Z"
    },
    "papermill": {
     "duration": 0.025924,
     "end_time": "2022-06-06T12:13:18.669956",
     "exception": false,
     "start_time": "2022-06-06T12:13:18.644032",
     "status": "completed"
    },
    "tags": []
   },
   "outputs": [],
   "source": [
    "predictions =lr.predict(X_test)"
   ]
  },
  {
   "cell_type": "code",
   "execution_count": 24,
   "id": "f318f6dc",
   "metadata": {
    "execution": {
     "iopub.execute_input": "2022-06-06T12:13:18.700514Z",
     "iopub.status.busy": "2022-06-06T12:13:18.700085Z",
     "iopub.status.idle": "2022-06-06T12:13:18.710011Z",
     "shell.execute_reply": "2022-06-06T12:13:18.708858Z"
    },
    "papermill": {
     "duration": 0.02785,
     "end_time": "2022-06-06T12:13:18.712194",
     "exception": false,
     "start_time": "2022-06-06T12:13:18.684344",
     "status": "completed"
    },
    "tags": []
   },
   "outputs": [
    {
     "data": {
      "text/plain": [
       "0.7605492639270064"
      ]
     },
     "execution_count": 24,
     "metadata": {},
     "output_type": "execute_result"
    }
   ],
   "source": [
    "lr.score(X_test,y_test)"
   ]
  },
  {
   "cell_type": "code",
   "execution_count": null,
   "id": "0b62dc8a",
   "metadata": {
    "papermill": {
     "duration": 0.013938,
     "end_time": "2022-06-06T12:13:18.740892",
     "exception": false,
     "start_time": "2022-06-06T12:13:18.726954",
     "status": "completed"
    },
    "tags": []
   },
   "outputs": [],
   "source": []
  }
 ],
 "metadata": {
  "kernelspec": {
   "display_name": "Python 3",
   "language": "python",
   "name": "python3"
  },
  "language_info": {
   "codemirror_mode": {
    "name": "ipython",
    "version": 3
   },
   "file_extension": ".py",
   "mimetype": "text/x-python",
   "name": "python",
   "nbconvert_exporter": "python",
   "pygments_lexer": "ipython3",
   "version": "3.7.12"
  },
  "papermill": {
   "default_parameters": {},
   "duration": 16.49481,
   "end_time": "2022-06-06T12:13:19.679996",
   "environment_variables": {},
   "exception": null,
   "input_path": "__notebook__.ipynb",
   "output_path": "__notebook__.ipynb",
   "parameters": {},
   "start_time": "2022-06-06T12:13:03.185186",
   "version": "2.3.4"
  }
 },
 "nbformat": 4,
 "nbformat_minor": 5
}
