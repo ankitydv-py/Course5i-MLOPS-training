{
 "cells": [
  {
   "cell_type": "code",
   "execution_count": 1,
   "id": "3b52e7af",
   "metadata": {
    "_cell_guid": "b1076dfc-b9ad-4769-8c92-a6c4dae69d19",
    "_uuid": "8f2839f25d086af736a60e9eeb907d3b93b6e0e5",
    "execution": {
     "iopub.execute_input": "2022-06-06T04:58:14.496776Z",
     "iopub.status.busy": "2022-06-06T04:58:14.495944Z",
     "iopub.status.idle": "2022-06-06T04:58:14.516051Z",
     "shell.execute_reply": "2022-06-06T04:58:14.515171Z"
    },
    "papermill": {
     "duration": 0.030789,
     "end_time": "2022-06-06T04:58:14.518479",
     "exception": false,
     "start_time": "2022-06-06T04:58:14.487690",
     "status": "completed"
    },
    "tags": []
   },
   "outputs": [
    {
     "name": "stdout",
     "output_type": "stream",
     "text": [
      "/kaggle/input/medical-insurance-payout/expenses.csv\n"
     ]
    }
   ],
   "source": [
    "# This Python 3 environment comes with many helpful analytics libraries installed\n",
    "# It is defined by the kaggle/python Docker image: https://github.com/kaggle/docker-python\n",
    "# For example, here's several helpful packages to load\n",
    "\n",
    "import numpy as np # linear algebra\n",
    "import pandas as pd # data processing, CSV file I/O (e.g. pd.read_csv)\n",
    "\n",
    "# Input data files are available in the read-only \"../input/\" directory\n",
    "# For example, running this (by clicking run or pressing Shift+Enter) will list all files under the input directory\n",
    "\n",
    "import os\n",
    "for dirname, _, filenames in os.walk('/kaggle/input'):\n",
    "    for filename in filenames:\n",
    "        print(os.path.join(dirname, filename))\n",
    "\n",
    "# You can write up to 20GB to the current directory (/kaggle/working/) that gets preserved as output when you create a version using \"Save & Run All\" \n",
    "# You can also write temporary files to /kaggle/temp/, but they won't be saved outside of the current session"
   ]
  },
  {
   "cell_type": "code",
   "execution_count": 2,
   "id": "a0d8cccc",
   "metadata": {
    "execution": {
     "iopub.execute_input": "2022-06-06T04:58:14.529860Z",
     "iopub.status.busy": "2022-06-06T04:58:14.529299Z",
     "iopub.status.idle": "2022-06-06T04:58:16.310615Z",
     "shell.execute_reply": "2022-06-06T04:58:16.309618Z"
    },
    "papermill": {
     "duration": 1.789167,
     "end_time": "2022-06-06T04:58:16.312744",
     "exception": false,
     "start_time": "2022-06-06T04:58:14.523577",
     "status": "completed"
    },
    "tags": []
   },
   "outputs": [],
   "source": [
    "#Step-1- We are Importing Useful Libraries\n",
    "import pandas as pd\n",
    "import seaborn as sns\n",
    "from sklearn import preprocessing\n",
    "from sklearn.linear_model import LinearRegression\n",
    "from sklearn.model_selection import train_test_split\n"
   ]
  },
  {
   "cell_type": "code",
   "execution_count": 3,
   "id": "ba78c664",
   "metadata": {
    "execution": {
     "iopub.execute_input": "2022-06-06T04:58:16.323335Z",
     "iopub.status.busy": "2022-06-06T04:58:16.322783Z",
     "iopub.status.idle": "2022-06-06T04:58:16.342499Z",
     "shell.execute_reply": "2022-06-06T04:58:16.341603Z"
    },
    "papermill": {
     "duration": 0.027725,
     "end_time": "2022-06-06T04:58:16.344922",
     "exception": false,
     "start_time": "2022-06-06T04:58:16.317197",
     "status": "completed"
    },
    "tags": []
   },
   "outputs": [],
   "source": [
    "#Step-2 Upload Data\n",
    "df=pd.read_csv('../input/medical-insurance-payout/expenses.csv')"
   ]
  },
  {
   "cell_type": "code",
   "execution_count": 4,
   "id": "a4b1065f",
   "metadata": {
    "execution": {
     "iopub.execute_input": "2022-06-06T04:58:16.360500Z",
     "iopub.status.busy": "2022-06-06T04:58:16.360107Z",
     "iopub.status.idle": "2022-06-06T04:58:16.382908Z",
     "shell.execute_reply": "2022-06-06T04:58:16.381709Z"
    },
    "papermill": {
     "duration": 0.033266,
     "end_time": "2022-06-06T04:58:16.385028",
     "exception": false,
     "start_time": "2022-06-06T04:58:16.351762",
     "status": "completed"
    },
    "tags": []
   },
   "outputs": [
    {
     "data": {
      "text/html": [
       "<div>\n",
       "<style scoped>\n",
       "    .dataframe tbody tr th:only-of-type {\n",
       "        vertical-align: middle;\n",
       "    }\n",
       "\n",
       "    .dataframe tbody tr th {\n",
       "        vertical-align: top;\n",
       "    }\n",
       "\n",
       "    .dataframe thead th {\n",
       "        text-align: right;\n",
       "    }\n",
       "</style>\n",
       "<table border=\"1\" class=\"dataframe\">\n",
       "  <thead>\n",
       "    <tr style=\"text-align: right;\">\n",
       "      <th></th>\n",
       "      <th>age</th>\n",
       "      <th>sex</th>\n",
       "      <th>bmi</th>\n",
       "      <th>children</th>\n",
       "      <th>smoker</th>\n",
       "      <th>region</th>\n",
       "      <th>charges</th>\n",
       "    </tr>\n",
       "  </thead>\n",
       "  <tbody>\n",
       "    <tr>\n",
       "      <th>0</th>\n",
       "      <td>19</td>\n",
       "      <td>female</td>\n",
       "      <td>27.900</td>\n",
       "      <td>0</td>\n",
       "      <td>yes</td>\n",
       "      <td>southwest</td>\n",
       "      <td>16884.92400</td>\n",
       "    </tr>\n",
       "    <tr>\n",
       "      <th>1</th>\n",
       "      <td>18</td>\n",
       "      <td>male</td>\n",
       "      <td>33.770</td>\n",
       "      <td>1</td>\n",
       "      <td>no</td>\n",
       "      <td>southeast</td>\n",
       "      <td>1725.55230</td>\n",
       "    </tr>\n",
       "    <tr>\n",
       "      <th>2</th>\n",
       "      <td>28</td>\n",
       "      <td>male</td>\n",
       "      <td>33.000</td>\n",
       "      <td>3</td>\n",
       "      <td>no</td>\n",
       "      <td>southeast</td>\n",
       "      <td>4449.46200</td>\n",
       "    </tr>\n",
       "    <tr>\n",
       "      <th>3</th>\n",
       "      <td>33</td>\n",
       "      <td>male</td>\n",
       "      <td>22.705</td>\n",
       "      <td>0</td>\n",
       "      <td>no</td>\n",
       "      <td>northwest</td>\n",
       "      <td>21984.47061</td>\n",
       "    </tr>\n",
       "    <tr>\n",
       "      <th>4</th>\n",
       "      <td>32</td>\n",
       "      <td>male</td>\n",
       "      <td>28.880</td>\n",
       "      <td>0</td>\n",
       "      <td>no</td>\n",
       "      <td>northwest</td>\n",
       "      <td>3866.85520</td>\n",
       "    </tr>\n",
       "  </tbody>\n",
       "</table>\n",
       "</div>"
      ],
      "text/plain": [
       "   age     sex     bmi  children smoker     region      charges\n",
       "0   19  female  27.900         0    yes  southwest  16884.92400\n",
       "1   18    male  33.770         1     no  southeast   1725.55230\n",
       "2   28    male  33.000         3     no  southeast   4449.46200\n",
       "3   33    male  22.705         0     no  northwest  21984.47061\n",
       "4   32    male  28.880         0     no  northwest   3866.85520"
      ]
     },
     "execution_count": 4,
     "metadata": {},
     "output_type": "execute_result"
    }
   ],
   "source": [
    "#Step-3 View Data\n",
    "df.head()"
   ]
  },
  {
   "cell_type": "code",
   "execution_count": 5,
   "id": "2249056c",
   "metadata": {
    "execution": {
     "iopub.execute_input": "2022-06-06T04:58:16.401408Z",
     "iopub.status.busy": "2022-06-06T04:58:16.400951Z",
     "iopub.status.idle": "2022-06-06T04:58:16.411554Z",
     "shell.execute_reply": "2022-06-06T04:58:16.410651Z"
    },
    "papermill": {
     "duration": 0.021447,
     "end_time": "2022-06-06T04:58:16.413700",
     "exception": false,
     "start_time": "2022-06-06T04:58:16.392253",
     "status": "completed"
    },
    "tags": []
   },
   "outputs": [
    {
     "data": {
      "text/plain": [
       "age         0\n",
       "sex         0\n",
       "bmi         0\n",
       "children    0\n",
       "smoker      0\n",
       "region      0\n",
       "charges     0\n",
       "dtype: int64"
      ]
     },
     "execution_count": 5,
     "metadata": {},
     "output_type": "execute_result"
    }
   ],
   "source": [
    "#Step-4- Check NaN/Null\n",
    "df.isnull().sum()"
   ]
  },
  {
   "cell_type": "code",
   "execution_count": 6,
   "id": "1f807b43",
   "metadata": {
    "execution": {
     "iopub.execute_input": "2022-06-06T04:58:16.429937Z",
     "iopub.status.busy": "2022-06-06T04:58:16.429503Z",
     "iopub.status.idle": "2022-06-06T04:58:16.437500Z",
     "shell.execute_reply": "2022-06-06T04:58:16.435677Z"
    },
    "papermill": {
     "duration": 0.01945,
     "end_time": "2022-06-06T04:58:16.440367",
     "exception": false,
     "start_time": "2022-06-06T04:58:16.420917",
     "status": "completed"
    },
    "tags": []
   },
   "outputs": [
    {
     "data": {
      "text/plain": [
       "(1338, 7)"
      ]
     },
     "execution_count": 6,
     "metadata": {},
     "output_type": "execute_result"
    }
   ],
   "source": [
    "#Step-5 Check Shape\n",
    "df.shape"
   ]
  },
  {
   "cell_type": "code",
   "execution_count": 7,
   "id": "2add61b8",
   "metadata": {
    "execution": {
     "iopub.execute_input": "2022-06-06T04:58:16.457169Z",
     "iopub.status.busy": "2022-06-06T04:58:16.456737Z",
     "iopub.status.idle": "2022-06-06T04:58:16.483909Z",
     "shell.execute_reply": "2022-06-06T04:58:16.483179Z"
    },
    "papermill": {
     "duration": 0.038129,
     "end_time": "2022-06-06T04:58:16.486176",
     "exception": false,
     "start_time": "2022-06-06T04:58:16.448047",
     "status": "completed"
    },
    "tags": []
   },
   "outputs": [
    {
     "name": "stdout",
     "output_type": "stream",
     "text": [
      "<class 'pandas.core.frame.DataFrame'>\n",
      "RangeIndex: 1338 entries, 0 to 1337\n",
      "Data columns (total 7 columns):\n",
      " #   Column    Non-Null Count  Dtype  \n",
      "---  ------    --------------  -----  \n",
      " 0   age       1338 non-null   int64  \n",
      " 1   sex       1338 non-null   object \n",
      " 2   bmi       1338 non-null   float64\n",
      " 3   children  1338 non-null   int64  \n",
      " 4   smoker    1338 non-null   object \n",
      " 5   region    1338 non-null   object \n",
      " 6   charges   1338 non-null   float64\n",
      "dtypes: float64(2), int64(2), object(3)\n",
      "memory usage: 73.3+ KB\n"
     ]
    }
   ],
   "source": [
    "#Step-6 Check info about Data\n",
    "df.info()"
   ]
  },
  {
   "cell_type": "code",
   "execution_count": 8,
   "id": "def71520",
   "metadata": {
    "execution": {
     "iopub.execute_input": "2022-06-06T04:58:16.502585Z",
     "iopub.status.busy": "2022-06-06T04:58:16.502061Z",
     "iopub.status.idle": "2022-06-06T04:58:16.510042Z",
     "shell.execute_reply": "2022-06-06T04:58:16.509282Z"
    },
    "papermill": {
     "duration": 0.018335,
     "end_time": "2022-06-06T04:58:16.511903",
     "exception": false,
     "start_time": "2022-06-06T04:58:16.493568",
     "status": "completed"
    },
    "tags": []
   },
   "outputs": [],
   "source": [
    "#Step-7 Converting String/Object data to Int\n",
    "\n",
    "lbl=preprocessing.LabelEncoder()\n",
    "clms=[\"sex\", \"smoker\", \"region\"]\n",
    "for x in clms:\n",
    "    df[x]=lbl.fit_transform(df[x])"
   ]
  },
  {
   "cell_type": "code",
   "execution_count": 9,
   "id": "ec372e6d",
   "metadata": {
    "execution": {
     "iopub.execute_input": "2022-06-06T04:58:16.529385Z",
     "iopub.status.busy": "2022-06-06T04:58:16.528672Z",
     "iopub.status.idle": "2022-06-06T04:58:16.541992Z",
     "shell.execute_reply": "2022-06-06T04:58:16.540934Z"
    },
    "papermill": {
     "duration": 0.024983,
     "end_time": "2022-06-06T04:58:16.544525",
     "exception": false,
     "start_time": "2022-06-06T04:58:16.519542",
     "status": "completed"
    },
    "tags": []
   },
   "outputs": [
    {
     "data": {
      "text/html": [
       "<div>\n",
       "<style scoped>\n",
       "    .dataframe tbody tr th:only-of-type {\n",
       "        vertical-align: middle;\n",
       "    }\n",
       "\n",
       "    .dataframe tbody tr th {\n",
       "        vertical-align: top;\n",
       "    }\n",
       "\n",
       "    .dataframe thead th {\n",
       "        text-align: right;\n",
       "    }\n",
       "</style>\n",
       "<table border=\"1\" class=\"dataframe\">\n",
       "  <thead>\n",
       "    <tr style=\"text-align: right;\">\n",
       "      <th></th>\n",
       "      <th>age</th>\n",
       "      <th>sex</th>\n",
       "      <th>bmi</th>\n",
       "      <th>children</th>\n",
       "      <th>smoker</th>\n",
       "      <th>region</th>\n",
       "      <th>charges</th>\n",
       "    </tr>\n",
       "  </thead>\n",
       "  <tbody>\n",
       "    <tr>\n",
       "      <th>0</th>\n",
       "      <td>19</td>\n",
       "      <td>0</td>\n",
       "      <td>27.900</td>\n",
       "      <td>0</td>\n",
       "      <td>1</td>\n",
       "      <td>3</td>\n",
       "      <td>16884.92400</td>\n",
       "    </tr>\n",
       "    <tr>\n",
       "      <th>1</th>\n",
       "      <td>18</td>\n",
       "      <td>1</td>\n",
       "      <td>33.770</td>\n",
       "      <td>1</td>\n",
       "      <td>0</td>\n",
       "      <td>2</td>\n",
       "      <td>1725.55230</td>\n",
       "    </tr>\n",
       "    <tr>\n",
       "      <th>2</th>\n",
       "      <td>28</td>\n",
       "      <td>1</td>\n",
       "      <td>33.000</td>\n",
       "      <td>3</td>\n",
       "      <td>0</td>\n",
       "      <td>2</td>\n",
       "      <td>4449.46200</td>\n",
       "    </tr>\n",
       "    <tr>\n",
       "      <th>3</th>\n",
       "      <td>33</td>\n",
       "      <td>1</td>\n",
       "      <td>22.705</td>\n",
       "      <td>0</td>\n",
       "      <td>0</td>\n",
       "      <td>1</td>\n",
       "      <td>21984.47061</td>\n",
       "    </tr>\n",
       "    <tr>\n",
       "      <th>4</th>\n",
       "      <td>32</td>\n",
       "      <td>1</td>\n",
       "      <td>28.880</td>\n",
       "      <td>0</td>\n",
       "      <td>0</td>\n",
       "      <td>1</td>\n",
       "      <td>3866.85520</td>\n",
       "    </tr>\n",
       "  </tbody>\n",
       "</table>\n",
       "</div>"
      ],
      "text/plain": [
       "   age  sex     bmi  children  smoker  region      charges\n",
       "0   19    0  27.900         0       1       3  16884.92400\n",
       "1   18    1  33.770         1       0       2   1725.55230\n",
       "2   28    1  33.000         3       0       2   4449.46200\n",
       "3   33    1  22.705         0       0       1  21984.47061\n",
       "4   32    1  28.880         0       0       1   3866.85520"
      ]
     },
     "execution_count": 9,
     "metadata": {},
     "output_type": "execute_result"
    }
   ],
   "source": [
    "#Step-8 Check data\n",
    "df.head()"
   ]
  },
  {
   "cell_type": "code",
   "execution_count": 10,
   "id": "6ced0c4f",
   "metadata": {
    "execution": {
     "iopub.execute_input": "2022-06-06T04:58:16.562516Z",
     "iopub.status.busy": "2022-06-06T04:58:16.561947Z",
     "iopub.status.idle": "2022-06-06T04:58:16.569825Z",
     "shell.execute_reply": "2022-06-06T04:58:16.569088Z"
    },
    "papermill": {
     "duration": 0.019608,
     "end_time": "2022-06-06T04:58:16.572198",
     "exception": false,
     "start_time": "2022-06-06T04:58:16.552590",
     "status": "completed"
    },
    "tags": []
   },
   "outputs": [],
   "source": [
    "#Step-9 Defining Data for Train & Test\n",
    "x=df.drop(\"charges\", axis=\"columns\")\n",
    "y=df[\"charges\"]"
   ]
  },
  {
   "cell_type": "code",
   "execution_count": 11,
   "id": "da42d613",
   "metadata": {
    "execution": {
     "iopub.execute_input": "2022-06-06T04:58:16.589257Z",
     "iopub.status.busy": "2022-06-06T04:58:16.588585Z",
     "iopub.status.idle": "2022-06-06T04:58:16.594700Z",
     "shell.execute_reply": "2022-06-06T04:58:16.593648Z"
    },
    "papermill": {
     "duration": 0.017142,
     "end_time": "2022-06-06T04:58:16.596999",
     "exception": false,
     "start_time": "2022-06-06T04:58:16.579857",
     "status": "completed"
    },
    "tags": []
   },
   "outputs": [],
   "source": [
    "#Step-10 Train_Test_Split Data\n",
    "xtrain,xtest,ytrain,ytest=train_test_split(x,y,test_size=0.3)"
   ]
  },
  {
   "cell_type": "code",
   "execution_count": 12,
   "id": "e0060e0e",
   "metadata": {
    "execution": {
     "iopub.execute_input": "2022-06-06T04:58:16.615334Z",
     "iopub.status.busy": "2022-06-06T04:58:16.614296Z",
     "iopub.status.idle": "2022-06-06T04:58:16.619124Z",
     "shell.execute_reply": "2022-06-06T04:58:16.618119Z"
    },
    "papermill": {
     "duration": 0.01642,
     "end_time": "2022-06-06T04:58:16.621189",
     "exception": false,
     "start_time": "2022-06-06T04:58:16.604769",
     "status": "completed"
    },
    "tags": []
   },
   "outputs": [],
   "source": [
    "#Step-11- Linear Model\n",
    "model=LinearRegression()"
   ]
  },
  {
   "cell_type": "code",
   "execution_count": 13,
   "id": "7faa932e",
   "metadata": {
    "execution": {
     "iopub.execute_input": "2022-06-06T04:58:16.637932Z",
     "iopub.status.busy": "2022-06-06T04:58:16.637337Z",
     "iopub.status.idle": "2022-06-06T04:58:16.663897Z",
     "shell.execute_reply": "2022-06-06T04:58:16.663248Z"
    },
    "papermill": {
     "duration": 0.037351,
     "end_time": "2022-06-06T04:58:16.666124",
     "exception": false,
     "start_time": "2022-06-06T04:58:16.628773",
     "status": "completed"
    },
    "tags": []
   },
   "outputs": [
    {
     "data": {
      "text/plain": [
       "LinearRegression()"
      ]
     },
     "execution_count": 13,
     "metadata": {},
     "output_type": "execute_result"
    }
   ],
   "source": [
    "#Step-12- Train MOdel\n",
    "model.fit(xtrain,ytrain)"
   ]
  },
  {
   "cell_type": "code",
   "execution_count": 14,
   "id": "8c39b821",
   "metadata": {
    "execution": {
     "iopub.execute_input": "2022-06-06T04:58:16.683469Z",
     "iopub.status.busy": "2022-06-06T04:58:16.683063Z",
     "iopub.status.idle": "2022-06-06T04:58:16.693786Z",
     "shell.execute_reply": "2022-06-06T04:58:16.692419Z"
    },
    "papermill": {
     "duration": 0.022173,
     "end_time": "2022-06-06T04:58:16.696095",
     "exception": false,
     "start_time": "2022-06-06T04:58:16.673922",
     "status": "completed"
    },
    "tags": []
   },
   "outputs": [
    {
     "data": {
      "text/plain": [
       "0.7816645235677775"
      ]
     },
     "execution_count": 14,
     "metadata": {},
     "output_type": "execute_result"
    }
   ],
   "source": [
    "#Step-13 Score\n",
    "model.score(xtest,ytest)"
   ]
  },
  {
   "cell_type": "code",
   "execution_count": 15,
   "id": "15c9f60b",
   "metadata": {
    "execution": {
     "iopub.execute_input": "2022-06-06T04:58:16.713697Z",
     "iopub.status.busy": "2022-06-06T04:58:16.712759Z",
     "iopub.status.idle": "2022-06-06T04:58:16.726979Z",
     "shell.execute_reply": "2022-06-06T04:58:16.725967Z"
    },
    "papermill": {
     "duration": 0.025639,
     "end_time": "2022-06-06T04:58:16.729426",
     "exception": false,
     "start_time": "2022-06-06T04:58:16.703787",
     "status": "completed"
    },
    "tags": []
   },
   "outputs": [
    {
     "data": {
      "text/plain": [
       "array([ 5544.57985085, 10348.46176627,  7017.95489906, 29880.47155459,\n",
       "       11985.70510208,  6903.23722274, 23017.62331385,  7677.93353203,\n",
       "        6647.07464104,  9812.37755214,  4258.68157226, 33691.16604001,\n",
       "        5825.88110134,  6003.76724514,  7713.07528761, 16497.61459554,\n",
       "        8369.06639464, 29047.6277113 , 33941.22816324,  8688.84203551,\n",
       "        4356.74459189,  9454.08406515, 14457.19028324,  8179.22775799,\n",
       "       26728.94167606, 10177.62040336, 11623.27684752,  9485.82177037,\n",
       "        5440.22934969,  7189.08540259,  6771.27621963,  7715.76023389,\n",
       "       13741.66964776, 10666.66110549,  1906.5781875 , 11781.96644247,\n",
       "       33055.72025854, 13161.47442665, 35685.94390152, 26458.66112889,\n",
       "       11297.56153803, -1116.94290012, 10397.77697421,  8332.1794026 ,\n",
       "       11953.92595989,  3979.3630939 ,  9606.49209076, 36407.0707465 ,\n",
       "        5794.73955864, 15364.91098091, 15694.12065102, 11969.17324911,\n",
       "        6323.70965141, 15424.63813149, 27988.9062106 ,  3733.65410288,\n",
       "       16908.67361619,  8850.93150399,  3029.42162541, 10904.61484969,\n",
       "       14511.92187014,   893.76042431, 13273.00873024, 32944.14495223,\n",
       "       13932.00303999,  7178.91843126, 32978.04264572, 35082.38911991,\n",
       "       26256.35110486,  9857.27188255, 34586.83248258, 30339.58399454,\n",
       "        6757.59853051, 11123.9610711 ,  8244.63051637, 26935.40087929,\n",
       "        5976.23205283, 11922.957595  ,  5532.59449299,    50.36432557,\n",
       "        2002.92264072, 31471.02516623,  1855.73553496, 10588.10705152,\n",
       "        6283.3032979 , 10739.01610878, 35810.10541249, 12243.07261273,\n",
       "        7534.19206835, 11127.71689527,  7360.11709711, 12071.90182412,\n",
       "       34723.36369124, 10667.37963682,  4871.05700066,  9288.88948681,\n",
       "       27197.29853131,  9395.2739308 ,   202.19644631, 36938.5156312 ,\n",
       "       10119.8824437 ,  4353.90981653,  2816.8486976 ,  1151.84192689,\n",
       "        5968.63968372,  5262.18336034, 12728.09003686, 11599.13151141,\n",
       "        4177.05455556,  8002.70826895,  -215.40510702, 10737.6335979 ,\n",
       "        4243.84428526,  -275.72646815,  5716.00900553,  2925.89141782,\n",
       "       15990.68526429,  6425.49073485,  5852.23334703, 31448.09001956,\n",
       "       10541.26021671,  3476.15239923, 12216.082985  , 10466.16520877,\n",
       "        8236.9095039 ,  4402.68897617, 35042.35219354, 13323.60721152,\n",
       "       16024.65106481,  7420.77732764,  6530.9232106 ,  2979.496851  ,\n",
       "        6019.93976   , 27950.34404108, 11430.06839486, 32069.87129906,\n",
       "       10840.40808657,  6977.6635007 , 11980.39027431, 32162.40212756,\n",
       "       11237.2409671 , 40136.90164335, 24588.41023973, 16034.33661282,\n",
       "       12895.71119541, 10350.54377593,  7300.85025668, 15258.24446041,\n",
       "        5258.34271026, 14934.94369013, 11666.92654307,  2746.18192044,\n",
       "        2458.44235167, 32325.94941655,  4201.83143407, 32471.84236973,\n",
       "       15111.45597656, 12900.17192949,  3159.91226596,  4137.59158849,\n",
       "       28340.02987828, 12154.21256503, 34205.23406007,  9840.28916314,\n",
       "        4590.34851881, 10946.7633358 , 11728.29600612,  9077.60393748,\n",
       "       10246.39853377, 28081.46449936,  4135.2754966 , 12140.08660674,\n",
       "       36309.44489935,  7573.17115908, 32830.51559034,  7371.31026697,\n",
       "       34198.42378993,  1521.62046653, 15278.44774589,  3832.93704565,\n",
       "       31329.75250994,  3940.4449012 , 10351.57999095, 12567.85145478,\n",
       "        6364.37696827, 16305.30585124, 33265.15766364,  -788.58019365,\n",
       "       14594.0800398 ,  6121.3628683 , 10426.83009485, 18832.77230359,\n",
       "        5406.12712405,  8997.54291594,  4612.94494034, 37833.62879998,\n",
       "        6694.78897349, 10647.70634894,  9220.49707456,  4962.29612874,\n",
       "       34813.24013759,  6791.76771127, 36474.4358083 ,  7002.42675779,\n",
       "       14241.98300709, -1636.4278719 , 11790.73591855, 32589.03137815,\n",
       "       32718.76789004,  6446.27655505,  8436.99179434, 39156.33168703,\n",
       "        4404.22571126,  7862.2769477 ,  8458.09652268, 11602.3034315 ,\n",
       "       12230.19395891, 36350.51630622, 31198.08612539,  6765.54057656,\n",
       "       12657.38938704,  8441.80444648, 10629.55315242, 12691.25342531,\n",
       "        6603.17061199,  8332.13190853,  6133.74619378, 18843.47317004,\n",
       "        5287.88222211,  1662.64909581,  7252.58646558, 12630.35579761,\n",
       "        5708.79212066,  9175.03325169, 37559.37139506, 28003.41017784,\n",
       "       26894.78689615, 11549.67079059, 35345.90436629,  5240.83856522,\n",
       "       38389.9542774 , 14391.41809772,  2389.32117417,  2241.42815083,\n",
       "        4957.91322901,  2674.26329942, 38683.50963086,  8556.30483838,\n",
       "       12731.24170569, 39517.08641709,  7539.8738711 , 16860.96591359,\n",
       "       29045.03112331, 31592.09742346,  8642.89765123, 16416.02317617,\n",
       "       10100.28598253, 26231.06087249, 10023.86266573, 29294.89570594,\n",
       "       11701.19474392, 26258.36565918,  4456.49915256,  9172.1990491 ,\n",
       "       14789.51147561, 10490.34225453, 11176.3429109 ,  4345.21176241,\n",
       "       14124.66838024,  9407.11435494, 11490.44149946, 26479.9790429 ,\n",
       "       10563.66983263,  5226.71339714, 14485.77891604, 11071.09997654,\n",
       "       26465.15170067, 15156.16119409, 10155.74604554,  7292.84017615,\n",
       "       10801.52045161,  6148.93229497,  2332.31183488, 13397.48093334,\n",
       "        4208.82375298,  7759.96551135,  2031.50961156, 32591.20095589,\n",
       "       12331.54175756,  2432.17147272,  9868.92536257, 12842.71590145,\n",
       "       11394.05892419, 16141.53154412, 39134.56240638, 32730.80153219,\n",
       "       11982.46154898,  5951.54821051, 30184.68813475,  6224.45258848,\n",
       "       14100.68887508,  8278.95255113, 14303.94481028, -1412.87135582,\n",
       "        5773.58704708, 24901.14859233, 12527.20028405, 12906.37840025,\n",
       "       34452.06812461,  4067.32032938, 27879.53716217,  8088.32404013,\n",
       "        9165.64953124, 11156.64821985,  7888.20499062, 11390.77724264,\n",
       "       17074.65814782,  5549.84156237, 10477.75915373, 10672.16612636,\n",
       "        7006.05725353, 15284.81298924, 13088.95265796,  3183.49841608,\n",
       "       12517.28850812,  -161.03285823, 28179.27016057,  8772.28181656,\n",
       "        2486.53125202, 15797.83427035, 33299.90642589, 13646.42079053,\n",
       "        5680.92814798, 31031.55545642,  5318.77923759,  3844.9070476 ,\n",
       "        4808.83675885, 11986.59760783, 35407.44600589, 10270.58473409,\n",
       "       12571.01306839,  3073.04241619,  4298.58171181, 12362.19553624,\n",
       "        1480.89282441,  6868.54294612,  8555.21313009,  8411.06309971,\n",
       "        1988.27294953, 16053.50851527, 33028.48026395,  2078.0234883 ,\n",
       "        5101.82946715, 18362.39195689, 10469.58893764, 15030.9762993 ,\n",
       "        1551.49870354,  8960.08585868, 38284.91479498,  3920.20774305,\n",
       "        8170.2145449 , 30460.5258022 ,  1003.37595191,  4174.86573422,\n",
       "       30482.29119516,  2002.95651338,   377.76707098, 29866.42169616,\n",
       "        4970.44105398, 30363.69942461,  7656.28294996,  5501.48847851,\n",
       "        7159.37638316, 32971.65015956, 13725.90706256, 30970.01359938,\n",
       "       10797.83662216,  6010.74341792, 16212.08358933, 10991.70184535,\n",
       "       13244.79140399, 26983.11910582, 11760.08134966, 11136.6653952 ,\n",
       "       15843.76258106,  3515.53478978,  5743.97063532,  3672.83719596,\n",
       "        4721.27575908, 39440.66619777, 31967.9981807 , 12283.39046369,\n",
       "        7083.21539268,  7237.6947655 , 38882.48349411, 13356.45506858,\n",
       "        6234.69955719, 31295.1257612 , 12691.09660467,  7738.1698498 ,\n",
       "        2960.2936006 ,  5586.84393806])"
      ]
     },
     "execution_count": 15,
     "metadata": {},
     "output_type": "execute_result"
    }
   ],
   "source": [
    "#Step-14 Predict\n",
    "model.predict(xtest)"
   ]
  },
  {
   "cell_type": "code",
   "execution_count": 16,
   "id": "406f3aa6",
   "metadata": {
    "execution": {
     "iopub.execute_input": "2022-06-06T04:58:16.748793Z",
     "iopub.status.busy": "2022-06-06T04:58:16.748008Z",
     "iopub.status.idle": "2022-06-06T04:58:16.758813Z",
     "shell.execute_reply": "2022-06-06T04:58:16.758193Z"
    },
    "papermill": {
     "duration": 0.023506,
     "end_time": "2022-06-06T04:58:16.761327",
     "exception": false,
     "start_time": "2022-06-06T04:58:16.737821",
     "status": "completed"
    },
    "tags": []
   },
   "outputs": [
    {
     "data": {
      "text/plain": [
       "0    574\n",
       "1    324\n",
       "2    240\n",
       "3    157\n",
       "4     25\n",
       "5     18\n",
       "Name: children, dtype: int64"
      ]
     },
     "execution_count": 16,
     "metadata": {},
     "output_type": "execute_result"
    }
   ],
   "source": [
    "#Step- 15- More Insights about Data\n",
    "max(df[\"age\"])   #Maximum Age, who Enrolled for Medical Insurance\n",
    "min(df[\"age\"])   #Minimum Age, who Enrolled for Medical Insurance\n",
    "df[\"age\"].value_counts() #Number of Person Age wise, Enrolled for Medical Insurance\n",
    "df[\"sex\"].value_counts() #Number of Person Gender wise, Enrolled for Medical Insurance\n",
    "df[\"smoker\"].value_counts() #Number of Person Smoke Category wise, Enrolled for Medical Insurance\n",
    "df[\"children\"].value_counts() #Number of Person Region wise, Enrolled for Medical Insurance"
   ]
  },
  {
   "cell_type": "code",
   "execution_count": null,
   "id": "624a7fff",
   "metadata": {
    "papermill": {
     "duration": 0.007821,
     "end_time": "2022-06-06T04:58:16.777444",
     "exception": false,
     "start_time": "2022-06-06T04:58:16.769623",
     "status": "completed"
    },
    "tags": []
   },
   "outputs": [],
   "source": []
  }
 ],
 "metadata": {
  "kernelspec": {
   "display_name": "Python 3",
   "language": "python",
   "name": "python3"
  },
  "language_info": {
   "codemirror_mode": {
    "name": "ipython",
    "version": 3
   },
   "file_extension": ".py",
   "mimetype": "text/x-python",
   "name": "python",
   "nbconvert_exporter": "python",
   "pygments_lexer": "ipython3",
   "version": "3.7.12"
  },
  "papermill": {
   "default_parameters": {},
   "duration": 15.981857,
   "end_time": "2022-06-06T04:58:17.908832",
   "environment_variables": {},
   "exception": null,
   "input_path": "__notebook__.ipynb",
   "output_path": "__notebook__.ipynb",
   "parameters": {},
   "start_time": "2022-06-06T04:58:01.926975",
   "version": "2.3.4"
  }
 },
 "nbformat": 4,
 "nbformat_minor": 5
}
